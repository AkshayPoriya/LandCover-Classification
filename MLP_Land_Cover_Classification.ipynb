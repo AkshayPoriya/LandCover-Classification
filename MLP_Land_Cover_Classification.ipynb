{
  "nbformat": 4,
  "nbformat_minor": 0,
  "metadata": {
    "colab": {
      "name": "MLP_Land_Cover_Classification.ipynb",
      "version": "0.3.2",
      "provenance": [],
      "collapsed_sections": []
    },
    "kernelspec": {
      "name": "python3",
      "display_name": "Python 3"
    },
    "accelerator": "GPU"
  },
  "cells": [
    {
      "cell_type": "code",
      "metadata": {
        "id": "aFD4fpgHfaWL",
        "colab_type": "code",
        "outputId": "6f40c6cb-6525-4e44-b4fc-0f92d64c0bae",
        "colab": {
          "resources": {
            "http://localhost:8080/nbextensions/google.colab/files.js": {
              "data": "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",
              "ok": true,
              "headers": [
                [
                  "content-type",
                  "application/javascript"
                ]
              ],
              "status": 200,
              "status_text": ""
            }
          },
          "base_uri": "https://localhost:8080/",
          "height": 74
        }
      },
      "source": [
        " from google.colab import files\n",
        "uploaded = files.upload()"
      ],
      "execution_count": 0,
      "outputs": [
        {
          "output_type": "display_data",
          "data": {
            "text/html": [
              "\n",
              "     <input type=\"file\" id=\"files-61e98649-42cb-4191-ad26-dfea1a523f33\" name=\"files[]\" multiple disabled />\n",
              "     <output id=\"result-61e98649-42cb-4191-ad26-dfea1a523f33\">\n",
              "      Upload widget is only available when the cell has been executed in the\n",
              "      current browser session. Please rerun this cell to enable.\n",
              "      </output>\n",
              "      <script src=\"/nbextensions/google.colab/files.js\"></script> "
            ],
            "text/plain": [
              "<IPython.core.display.HTML object>"
            ]
          },
          "metadata": {
            "tags": []
          }
        },
        {
          "output_type": "stream",
          "text": [
            "Saving data_preparation.py to data_preparation.py\n"
          ],
          "name": "stdout"
        }
      ]
    },
    {
      "cell_type": "code",
      "metadata": {
        "id": "cWwxv8uJfhxr",
        "colab_type": "code",
        "colab": {}
      },
      "source": [
        "import tensorflow as tf\n",
        "import numpy as np\n",
        "import data_preparation as dp"
      ],
      "execution_count": 0,
      "outputs": []
    },
    {
      "cell_type": "code",
      "metadata": {
        "id": "C7aF7hAPrF87",
        "colab_type": "code",
        "outputId": "11dc51cf-1dde-4362-b363-3712fe9bb678",
        "colab": {
          "base_uri": "https://localhost:8080/",
          "height": 33
        }
      },
      "source": [
        "rm -r Graph"
      ],
      "execution_count": 0,
      "outputs": [
        {
          "output_type": "stream",
          "text": [
            "rm: cannot remove 'Graph': No such file or directory\n"
          ],
          "name": "stdout"
        }
      ]
    },
    {
      "cell_type": "code",
      "metadata": {
        "id": "MWJ7KV3WgCvo",
        "colab_type": "code",
        "colab": {}
      },
      "source": [
        "x_train,y_train,x_test,y_test = dp.train_test_split()"
      ],
      "execution_count": 0,
      "outputs": []
    },
    {
      "cell_type": "code",
      "metadata": {
        "id": "fi1sz9UqgKpU",
        "colab_type": "code",
        "colab": {}
      },
      "source": [
        "tf.reset_default_graph()\n",
        "sess = tf.Session()"
      ],
      "execution_count": 0,
      "outputs": []
    },
    {
      "cell_type": "markdown",
      "metadata": {
        "id": "U6BV8YH5hlat",
        "colab_type": "text"
      },
      "source": [
        "**Global Variables**"
      ]
    },
    {
      "cell_type": "code",
      "metadata": {
        "id": "PQDSqDEcgiaX",
        "colab_type": "code",
        "colab": {}
      },
      "source": [
        "# number of neurons in each hidden layer\n",
        "HIDDEN1_SIZE = 500\n",
        "HIDDEN2_SIZE = 350\n",
        "HIDDEN3_SIZE = 150\n",
        "\n",
        "# experiment with the nubmer of training steps to see the effect\n",
        "TRAIN_STEPS = 140000\n",
        "BATCH_SIZE = 200\n",
        "LEARNING_RATE = 0.01\n",
        "\n",
        "NUM_CLASSES = 7\n",
        "NUM_PIXELS = len(x_train[0])"
      ],
      "execution_count": 0,
      "outputs": []
    },
    {
      "cell_type": "code",
      "metadata": {
        "id": "BhPGlNHg1Mm1",
        "colab_type": "code",
        "colab": {}
      },
      "source": [
        "# convert y_train and y_test to  one hot vector \n",
        "\n",
        "y_train_ohv = np.zeros(( len(y_train),NUM_CLASSES ))\n",
        "y_train_ohv[np.arange( len(y_train) ), y_train] = 1\n",
        "y_train = y_train_ohv\n",
        "\n",
        "y_test_ohv = np.zeros(( len(y_test),NUM_CLASSES ))\n",
        "y_test_ohv[np.arange( len(y_test) ), y_test] = 1\n",
        "y_test = y_test_ohv"
      ],
      "execution_count": 0,
      "outputs": []
    },
    {
      "cell_type": "markdown",
      "metadata": {
        "id": "90CwIQGChzMU",
        "colab_type": "text"
      },
      "source": [
        "How to use Dataset in Tensorflow from [here](https://towardsdatascience.com/how-to-use-dataset-in-tensorflow-c758ef9e4428)"
      ]
    },
    {
      "cell_type": "code",
      "metadata": {
        "id": "-HNguhvTgjW2",
        "colab_type": "code",
        "colab": {}
      },
      "source": [
        "# train_data = tf.data.Dataset.from_tensor_slices( (x_train, tf.one_hot(y_train,NUM_CLASSES) ) )"
      ],
      "execution_count": 0,
      "outputs": []
    },
    {
      "cell_type": "markdown",
      "metadata": {
        "id": "SlF0UywSdyW3",
        "colab_type": "text"
      },
      "source": [
        "Define Placeholders"
      ]
    },
    {
      "cell_type": "code",
      "metadata": {
        "id": "nUFJ3wTMhJm-",
        "colab_type": "code",
        "colab": {}
      },
      "source": [
        "# Define inputs\n",
        "\n",
        "with tf.name_scope('input'):\n",
        "  patches = tf.placeholder(tf.float32, [None, NUM_PIXELS], name = \"patches\")\n",
        "  labels = tf.placeholder(tf.float32, [None, NUM_CLASSES], name=\"labels\")"
      ],
      "execution_count": 0,
      "outputs": []
    },
    {
      "cell_type": "markdown",
      "metadata": {
        "id": "JOyzTwMdfoIu",
        "colab_type": "text"
      },
      "source": [
        "**Define Model**\n",
        "\n",
        "Layers API.....  Lower Level Abstraction"
      ]
    },
    {
      "cell_type": "code",
      "metadata": {
        "id": "cOBWpCc4inKF",
        "colab_type": "code",
        "colab": {}
      },
      "source": [
        "# Function to create a fully connected layer\n",
        "\n",
        "def fc_layer(input, size_out, name = \"fc\", activation = None):\n",
        "  with tf.name_scope(name):\n",
        "    size_in = int(input.shape[1])\n",
        "    w = tf.Variable(tf.truncated_normal([size_in, size_out], stddev=0.1), name=\"weights\")\n",
        "    b = tf.Variable(tf.constant(0.1, shape=[size_out]), name=\"bias\")\n",
        "    wx_plus_b = tf.matmul(input, w) + b\n",
        "    if activation: return activation(wx_plus_b)\n",
        "    return wx_plus_b\n",
        "  \n",
        "\n",
        "# The way we initialize variables has an affect on how quickly training converges.  "
      ],
      "execution_count": 0,
      "outputs": []
    },
    {
      "cell_type": "code",
      "metadata": {
        "id": "ZIlAxql3nx4Q",
        "colab_type": "code",
        "colab": {}
      },
      "source": [
        "# Define the model\n",
        "\n",
        "# First, we'll create three fully connected layers, with ReLU activations\n",
        "fc1 = fc_layer(patches, HIDDEN1_SIZE, \"fc1\", activation=tf.nn.relu)\n",
        "fc2 = fc_layer(fc1, HIDDEN2_SIZE, \"fc2\", activation=tf.nn.relu)\n",
        "fc3 = fc_layer(fc2, HIDDEN3_SIZE, \"fc3\", activation=tf.nn.relu)\n",
        "\n",
        "# Finally, we'll calculate logists. This will be\n",
        "# the input to our Softmax function. Notice we \n",
        "# don't apply an activation at this layer.\n",
        "\n",
        "y = fc_layer(fc3, NUM_CLASSES, name=\"output\")"
      ],
      "execution_count": 0,
      "outputs": []
    },
    {
      "cell_type": "code",
      "metadata": {
        "id": "PF8vdDZxpfGh",
        "colab_type": "code",
        "outputId": "3eb3141c-9dab-4426-9512-6ff5c288f301",
        "colab": {
          "base_uri": "https://localhost:8080/",
          "height": 104
        }
      },
      "source": [
        "# Define loss and an optimizer\n",
        "\n",
        "with tf.name_scope(\"loss\"):\n",
        "  loss = tf.reduce_mean(tf.nn.softmax_cross_entropy_with_logits_v2(logits=y, labels=labels))\n",
        "  tf.summary.scalar('loss', loss)\n",
        "\n",
        "with tf.name_scope(\"optimizer\"):\n",
        "  \n",
        "  # Here, we're using Adagrad optimizer.\n",
        "  # TensorFlow will automatically analyze our graph\n",
        "  # and determine how to adjust the variables to decrease the loss.\n",
        "  train = tf.train.AdagradOptimizer(LEARNING_RATE).minimize(loss)"
      ],
      "execution_count": 0,
      "outputs": [
        {
          "output_type": "stream",
          "text": [
            "WARNING: Logging before flag parsing goes to stderr.\n",
            "W0712 10:47:35.192734 139681560352640 deprecation.py:506] From /usr/local/lib/python3.6/dist-packages/tensorflow/python/training/adagrad.py:76: calling Constant.__init__ (from tensorflow.python.ops.init_ops) with dtype is deprecated and will be removed in a future version.\n",
            "Instructions for updating:\n",
            "Call initializer instance with the dtype argument instead of passing it to the constructor\n"
          ],
          "name": "stderr"
        }
      ]
    },
    {
      "cell_type": "code",
      "metadata": {
        "id": "wL2P44Ppsuip",
        "colab_type": "code",
        "colab": {}
      },
      "source": [
        "# Define evaluation\n",
        "\n",
        "with tf.name_scope(\"evaluation\"):\n",
        "  correct_prediction = tf.equal(tf.argmax(y, 1), tf.argmax(labels, 1))\n",
        "  accuracy = tf.reduce_mean(tf.cast(correct_prediction, tf.float32))\n",
        "  tf.summary.scalar('accuracy', accuracy)"
      ],
      "execution_count": 0,
      "outputs": []
    },
    {
      "cell_type": "code",
      "metadata": {
        "id": "Q0Dl-56suKwz",
        "colab_type": "code",
        "outputId": "447ad790-b1ce-4ba3-b535-3dbfee33fb12",
        "colab": {
          "base_uri": "https://localhost:8080/",
          "height": 137
        }
      },
      "source": [
        "# Set up the tensorboard\n",
        "\n",
        "from tensorboardcolab import *\n",
        "tbc = TensorBoardColab()\n",
        "\n",
        "train_writer = tbc.get_deep_writers(\"train\")\n",
        "train_writer.add_graph(sess.graph)\n",
        "test_writer = tbc.get_deep_writers(\"test\")\n",
        "test_writer.add_graph(sess.graph)\n",
        "\n",
        "summary_op = tf.summary.merge_all()"
      ],
      "execution_count": 0,
      "outputs": [
        {
          "output_type": "stream",
          "text": [
            "Using TensorFlow backend.\n"
          ],
          "name": "stderr"
        },
        {
          "output_type": "stream",
          "text": [
            "Wait for 8 seconds...\n"
          ],
          "name": "stdout"
        },
        {
          "output_type": "stream",
          "text": [
            "W0712 10:47:59.943410 139681560352640 deprecation_wrapper.py:119] From /usr/local/lib/python3.6/dist-packages/tensorboardcolab/core.py:49: The name tf.summary.FileWriter is deprecated. Please use tf.compat.v1.summary.FileWriter instead.\n",
            "\n"
          ],
          "name": "stderr"
        },
        {
          "output_type": "stream",
          "text": [
            "TensorBoard link:\n",
            "http://db426c25.ngrok.io\n"
          ],
          "name": "stdout"
        }
      ]
    },
    {
      "cell_type": "code",
      "metadata": {
        "id": "T163vko2vJew",
        "colab_type": "code",
        "colab": {}
      },
      "source": [
        "# Initializes all Global Variables in the Graph.\n",
        "\n",
        "sess.run(tf.global_variables_initializer())"
      ],
      "execution_count": 0,
      "outputs": []
    },
    {
      "cell_type": "markdown",
      "metadata": {
        "id": "OFGtaMPptXGi",
        "colab_type": "text"
      },
      "source": [
        "**Next Batch Function**"
      ]
    },
    {
      "cell_type": "code",
      "metadata": {
        "id": "MNmErJORgPl3",
        "colab_type": "code",
        "colab": {}
      },
      "source": [
        "# Function to extract next batch of size num\n",
        "BATCH_INDEX = 0       # starting index of batch to extract\n",
        "IDX = None            # set of indices of all elements\n",
        "\n",
        "def next_batch(num):\n",
        "  # Return a total of num random samples and labels.\n",
        "  global BATCH_INDEX         # As python have some problems with global variables\n",
        "  global IDX\n",
        "  \n",
        "  if (BATCH_INDEX == 0):\n",
        "    IDX = np.arange(0, len(y_train))   # List of indices\n",
        "    np.random.shuffle(IDX)             # shuffle for randomness\n",
        "    \n",
        "  batch = IDX[ BATCH_INDEX:min( BATCH_INDEX + num, len(y_train) ) ]  # List of indices for batch extraction\n",
        "  data_batch = [ x_train[i] for i in batch ]         # Training data of batch\n",
        "  labels_batch = [ y_train[i] for i in batch ]       # Labels for batch data\n",
        "  BATCH_INDEX = int( ( BATCH_INDEX + len(batch) ) % len(y_train) )   # So as to make start index = 0 after completion of 1 epoch\n",
        "  return np.array(data_batch), np.array(labels_batch)  "
      ],
      "execution_count": 0,
      "outputs": []
    },
    {
      "cell_type": "markdown",
      "metadata": {
        "id": "L6bln-s_vKy6",
        "colab_type": "text"
      },
      "source": [
        "**Training**"
      ]
    },
    {
      "cell_type": "code",
      "metadata": {
        "id": "7mXGb8tbv6ft",
        "colab_type": "code",
        "outputId": "4e0528e2-4fe3-4b43-908f-7c8daa78a3ce",
        "colab": {
          "base_uri": "https://localhost:8080/",
          "height": 1000
        }
      },
      "source": [
        "for step in range(TRAIN_STEPS):\n",
        "  batch_xs, batch_ys = next_batch(BATCH_SIZE)\n",
        "  summary_result, _ = sess.run( [summary_op, train], feed_dict={patches: batch_xs, labels: batch_ys} )\n",
        "\n",
        "  train_writer.add_summary( summary_result, step )\n",
        "  train_writer.add_run_metadata( tf.RunMetadata(), 'step%03d' % step )\n",
        "    \n",
        "  # calculate accuracy on the test set, every 1000 steps.\n",
        "  # we're using the entire test set here, so this will be a bit slow\n",
        "  if step % (16*100) == 0:\n",
        "    summary_result, acc = sess.run( [summary_op, accuracy], feed_dict={patches: x_test, labels: y_test} )\n",
        "    test_writer.add_summary(summary_result, step)\n",
        "    test_writer.add_run_metadata( tf.RunMetadata(), 'step%03d' % step )\n",
        "    print ( \"test accuracy: %f at step %d\" % (acc,step) )\n",
        "\n",
        "\n",
        "print( \"Accuracy %f\" % sess.run( accuracy, feed_dict={patches: x_test, labels: y_test} ) )\n",
        "\n",
        "train_writer.close()\n",
        "test_writer.close()"
      ],
      "execution_count": 0,
      "outputs": [
        {
          "output_type": "stream",
          "text": [
            "test accuracy: 0.061992 at step 0\n",
            "test accuracy: 0.801718 at step 1600\n",
            "test accuracy: 0.870443 at step 3200\n",
            "test accuracy: 0.897609 at step 4800\n",
            "test accuracy: 0.901788 at step 6400\n",
            "test accuracy: 0.919201 at step 8000\n",
            "test accuracy: 0.927560 at step 9600\n",
            "test accuracy: 0.937079 at step 11200\n",
            "test accuracy: 0.944045 at step 12800\n",
            "test accuracy: 0.946134 at step 14400\n",
            "test accuracy: 0.941491 at step 16000\n",
            "test accuracy: 0.947759 at step 17600\n",
            "test accuracy: 0.952171 at step 19200\n",
            "test accuracy: 0.956118 at step 20800\n",
            "test accuracy: 0.955654 at step 22400\n",
            "test accuracy: 0.957279 at step 24000\n",
            "test accuracy: 0.953100 at step 25600\n",
            "test accuracy: 0.953332 at step 27200\n",
            "test accuracy: 0.965173 at step 28800\n",
            "test accuracy: 0.962619 at step 30400\n",
            "test accuracy: 0.958904 at step 32000\n",
            "test accuracy: 0.965405 at step 33600\n",
            "test accuracy: 0.967727 at step 35200\n",
            "test accuracy: 0.967959 at step 36800\n",
            "test accuracy: 0.969120 at step 38400\n",
            "test accuracy: 0.968888 at step 40000\n",
            "test accuracy: 0.969584 at step 41600\n",
            "test accuracy: 0.967495 at step 43200\n",
            "test accuracy: 0.972603 at step 44800\n",
            "test accuracy: 0.970745 at step 46400\n",
            "test accuracy: 0.968656 at step 48000\n",
            "test accuracy: 0.971906 at step 49600\n",
            "test accuracy: 0.973531 at step 51200\n",
            "test accuracy: 0.971210 at step 52800\n",
            "test accuracy: 0.970513 at step 54400\n",
            "test accuracy: 0.973996 at step 56000\n",
            "test accuracy: 0.975853 at step 57600\n",
            "test accuracy: 0.976318 at step 59200\n",
            "test accuracy: 0.976550 at step 60800\n",
            "test accuracy: 0.974228 at step 62400\n",
            "test accuracy: 0.976085 at step 64000\n",
            "test accuracy: 0.977246 at step 65600\n",
            "test accuracy: 0.977711 at step 67200\n",
            "test accuracy: 0.973996 at step 68800\n",
            "test accuracy: 0.977943 at step 70400\n",
            "test accuracy: 0.978872 at step 72000\n",
            "test accuracy: 0.977943 at step 73600\n",
            "test accuracy: 0.977711 at step 75200\n",
            "test accuracy: 0.975621 at step 76800\n",
            "test accuracy: 0.978407 at step 78400\n",
            "test accuracy: 0.979336 at step 80000\n",
            "test accuracy: 0.977479 at step 81600\n",
            "test accuracy: 0.979568 at step 83200\n",
            "test accuracy: 0.979336 at step 84800\n",
            "test accuracy: 0.976318 at step 86400\n",
            "test accuracy: 0.979800 at step 88000\n",
            "test accuracy: 0.979568 at step 89600\n",
            "test accuracy: 0.980265 at step 91200\n",
            "test accuracy: 0.979568 at step 92800\n",
            "test accuracy: 0.979800 at step 94400\n",
            "test accuracy: 0.980265 at step 96000\n",
            "test accuracy: 0.980497 at step 97600\n",
            "test accuracy: 0.980961 at step 99200\n",
            "test accuracy: 0.980265 at step 100800\n",
            "test accuracy: 0.980961 at step 102400\n",
            "test accuracy: 0.979568 at step 104000\n",
            "test accuracy: 0.980729 at step 105600\n",
            "test accuracy: 0.981890 at step 107200\n",
            "test accuracy: 0.981193 at step 108800\n",
            "test accuracy: 0.982587 at step 110400\n",
            "test accuracy: 0.982354 at step 112000\n",
            "test accuracy: 0.980497 at step 113600\n",
            "test accuracy: 0.979800 at step 115200\n",
            "test accuracy: 0.981426 at step 116800\n",
            "test accuracy: 0.980265 at step 118400\n",
            "test accuracy: 0.981890 at step 120000\n",
            "test accuracy: 0.979568 at step 121600\n",
            "test accuracy: 0.982354 at step 123200\n",
            "test accuracy: 0.982587 at step 124800\n",
            "test accuracy: 0.982587 at step 126400\n",
            "test accuracy: 0.982819 at step 128000\n",
            "test accuracy: 0.982819 at step 129600\n",
            "test accuracy: 0.981658 at step 131200\n",
            "test accuracy: 0.981890 at step 132800\n",
            "test accuracy: 0.981890 at step 134400\n",
            "test accuracy: 0.981890 at step 136000\n",
            "test accuracy: 0.982122 at step 137600\n",
            "test accuracy: 0.982354 at step 139200\n",
            "Accuracy 0.982587\n"
          ],
          "name": "stdout"
        }
      ]
    },
    {
      "cell_type": "code",
      "metadata": {
        "id": "TXc6jv5b0b-f",
        "colab_type": "code",
        "outputId": "b1bff5bf-541f-4587-d62c-9865897d9136",
        "colab": {
          "base_uri": "https://localhost:8080/",
          "height": 184
        }
      },
      "source": [
        "!pip install spectral"
      ],
      "execution_count": 0,
      "outputs": [
        {
          "output_type": "stream",
          "text": [
            "Collecting spectral\n",
            "\u001b[?25l  Downloading https://files.pythonhosted.org/packages/20/07/bd1c4af12954a66276e912e9b7e86c666f6875bc44465044a696d5a08ec0/spectral-0.19.tar.gz (141kB)\n",
            "\u001b[K     |████████████████████████████████| 143kB 3.4MB/s \n",
            "\u001b[?25hRequirement already satisfied: numpy in /usr/local/lib/python3.6/dist-packages (from spectral) (1.16.4)\n",
            "Building wheels for collected packages: spectral\n",
            "  Building wheel for spectral (setup.py) ... \u001b[?25l\u001b[?25hdone\n",
            "  Stored in directory: /root/.cache/pip/wheels/93/7e/15/a200ebb0b557d54eb396234737f9593ce705ed98a954bf148b\n",
            "Successfully built spectral\n",
            "Installing collected packages: spectral\n",
            "Successfully installed spectral-0.19\n"
          ],
          "name": "stdout"
        }
      ]
    },
    {
      "cell_type": "code",
      "metadata": {
        "id": "c2jcCUSGQ3CS",
        "colab_type": "code",
        "colab": {}
      },
      "source": [
        "import spectral"
      ],
      "execution_count": 0,
      "outputs": []
    },
    {
      "cell_type": "code",
      "metadata": {
        "id": "Mj1TTJEnRCqU",
        "colab_type": "code",
        "outputId": "4e85a50c-b9d2-4dea-8a0f-454cd1bdcaeb",
        "colab": {
          "base_uri": "https://localhost:8080/",
          "height": 867
        }
      },
      "source": [
        "ground_truth = spectral.imshow( classes = dp.mat_y,figsize =(15,15) )"
      ],
      "execution_count": 0,
      "outputs": [
        {
          "output_type": "display_data",
          "data": {
            "image/png": "[encoded data removed]",
            "text/plain": [
              "<Figure size 1080x1080 with 1 Axes>"
            ]
          },
          "metadata": {
            "tags": []
          }
        }
      ]
    },
    {
      "cell_type": "code",
      "metadata": {
        "id": "CP1iubhzRZ3-",
        "colab_type": "code",
        "colab": {}
      },
      "source": [
        "y_hat = np.zeros( (dp.HEIGHT,dp.WIDTH), dtype = int)"
      ],
      "execution_count": 0,
      "outputs": []
    },
    {
      "cell_type": "code",
      "metadata": {
        "id": "T_SEEDp2URzT",
        "colab_type": "code",
        "colab": {}
      },
      "source": [
        "from scipy.special import softmax\n",
        "\n",
        "for i in range(dp.HEIGHT):\n",
        "    for j in range(dp.WIDTH):\n",
        "      #if(dp.mat_y[i][j] ==0 ):\n",
        "      #  y_hat[i][j] = 0\n",
        "      #else:\n",
        "      patch = dp.patch_at_index(i,j)     \n",
        "      patch = np.array([patch])       # To make the dimension of patch compatible with dim of x_placeholder \n",
        "      temp = sess.run( y, feed_dict = { patches:patch } )\n",
        "      temp = softmax(temp)\n",
        "      y_hat[i][j] = np.argmax( temp )+1\n",
        "      \n",
        "\n",
        "\n",
        "      "
      ],
      "execution_count": 0,
      "outputs": []
    },
    {
      "cell_type": "code",
      "metadata": {
        "id": "t5ByXdn5Y0wt",
        "colab_type": "code",
        "outputId": "03492bdc-2581-4365-d491-4cadcf9e5441",
        "colab": {
          "base_uri": "https://localhost:8080/",
          "height": 867
        }
      },
      "source": [
        "prediction = spectral.imshow(classes = y_hat,figsize =(15,15))\n"
      ],
      "execution_count": 0,
      "outputs": [
        {
          "output_type": "display_data",
          "data": {
            "image/png": "[encoded data removed]",
            "text/plain": [
              "<Figure size 1080x1080 with 1 Axes>"
            ]
          },
          "metadata": {
            "tags": []
          }
        }
      ]
    },
    {
      "cell_type": "code",
      "metadata": {
        "id": "-uLGWE9x2_rS",
        "colab_type": "code",
        "colab": {}
      },
      "source": [
        ""
      ],
      "execution_count": 0,
      "outputs": []
    }
  ]
}