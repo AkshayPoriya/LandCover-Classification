{
  "nbformat": 4,
  "nbformat_minor": 0,
  "metadata": {
    "colab": {
      "name": "CNN_Land_Cover_classification.ipynb",
      "version": "0.3.2",
      "provenance": [],
      "collapsed_sections": []
    },
    "kernelspec": {
      "name": "python3",
      "display_name": "Python 3"
    },
    "accelerator": "GPU"
  },
  "cells": [
    {
      "cell_type": "code",
      "metadata": {
        "id": "Gh_l6A5BXIpo",
        "colab_type": "code",
        "outputId": "560bffd2-f86c-45db-9e86-c2071bdb1466",
        "colab": {
          "resources": {
            "http://localhost:8080/nbextensions/google.colab/files.js": {
              "data": "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",
              "ok": true,
              "headers": [
                [
                  "content-type",
                  "application/javascript"
                ]
              ],
              "status": 200,
              "status_text": ""
            }
          },
          "base_uri": "https://localhost:8080/",
          "height": 74
        }
      },
      "source": [
        "from google.colab import files\n",
        "uploaded = files.upload()"
      ],
      "execution_count": 0,
      "outputs": [
        {
          "output_type": "display_data",
          "data": {
            "text/html": [
              "\n",
              "     <input type=\"file\" id=\"files-c2386d5d-34d0-4d2d-9726-433c9b5b4d60\" name=\"files[]\" multiple disabled />\n",
              "     <output id=\"result-c2386d5d-34d0-4d2d-9726-433c9b5b4d60\">\n",
              "      Upload widget is only available when the cell has been executed in the\n",
              "      current browser session. Please rerun this cell to enable.\n",
              "      </output>\n",
              "      <script src=\"/nbextensions/google.colab/files.js\"></script> "
            ],
            "text/plain": [
              "<IPython.core.display.HTML object>"
            ]
          },
          "metadata": {
            "tags": []
          }
        },
        {
          "output_type": "stream",
          "text": [
            "Saving data_preparation.py to data_preparation.py\n"
          ],
          "name": "stdout"
        }
      ]
    },
    {
      "cell_type": "code",
      "metadata": {
        "id": "0RnkH0DaaBWn",
        "colab_type": "code",
        "colab": {}
      },
      "source": [
        "# To import the dependencies\n",
        "import data_preparation as dp\n",
        "import tensorflow as tf\n",
        "import numpy as np\n",
        "from scipy.special import softmax"
      ],
      "execution_count": 0,
      "outputs": []
    },
    {
      "cell_type": "code",
      "metadata": {
        "id": "eJvHTszs50fl",
        "colab_type": "code",
        "outputId": "44c38693-8c03-460b-9061-b9d6fa9ef601",
        "colab": {
          "base_uri": "https://localhost:8080/",
          "height": 33
        }
      },
      "source": [
        "# To remove the Graph Directory which store event files for tensorboard\n",
        "rm -r Graph"
      ],
      "execution_count": 0,
      "outputs": [
        {
          "output_type": "stream",
          "text": [
            "rm: cannot remove 'Graph': No such file or directory\n"
          ],
          "name": "stdout"
        }
      ]
    },
    {
      "cell_type": "code",
      "metadata": {
        "id": "nWhwqzy8WnmX",
        "colab_type": "code",
        "colab": {}
      },
      "source": [
        "# To get the training and testing data from the data_preparation file\n",
        "x_train,y_train,x_test,y_test = dp.train_test_split()"
      ],
      "execution_count": 0,
      "outputs": []
    },
    {
      "cell_type": "code",
      "metadata": {
        "id": "D9IYJwWLRPNI",
        "colab_type": "code",
        "colab": {}
      },
      "source": [
        "# Number of neurons in each hidden layer\n",
        "BATCH_SIZE = 100\n",
        "LEARNING_RATE = 0.01\n",
        "TRAIN_STEPS = 140000\n",
        "NUM_CLASSES = 7\n",
        "CONV_1_CHANNELS = 500\n",
        "CONV_2_CHANNELS = 100\n",
        "FC_1_UNITS = 200\n",
        "FC_2_UNITS = 84\n",
        "FC_3_UNITS = 7\n",
        "\n",
        "#Kernel Sizes\n",
        "CONV_K_S = 5\n",
        "POOL_K_S = 2\n",
        "\n",
        "STRIDES = 2"
      ],
      "execution_count": 0,
      "outputs": []
    },
    {
      "cell_type": "code",
      "metadata": {
        "id": "twzMCiTNaHeF",
        "colab_type": "code",
        "outputId": "de7cab7d-8535-49c9-cfb7-cac55211c59a",
        "colab": {
          "base_uri": "https://localhost:8080/",
          "height": 167
        }
      },
      "source": [
        "#Reshape the dataset\n",
        "x_train = x_train.reshape(x_train.shape[0],dp.P_S,dp.P_S,dp.BAND)\n",
        "x_test = x_test.reshape(x_test.shape[0],dp.P_S,dp.P_S,dp.BAND)\n",
        "\n",
        "# converting y_train and y_test into one hot form\n",
        "y_train = tf.contrib.keras.utils.to_categorical(y_train, NUM_CLASSES)\n",
        "y_test = tf.contrib.keras.utils.to_categorical(y_test,NUM_CLASSES)"
      ],
      "execution_count": 0,
      "outputs": [
        {
          "output_type": "stream",
          "text": [
            "WARNING: Logging before flag parsing goes to stderr.\n",
            "W0720 16:38:11.389762 140121112250240 lazy_loader.py:50] \n",
            "The TensorFlow contrib module will not be included in TensorFlow 2.0.\n",
            "For more information, please see:\n",
            "  * https://github.com/tensorflow/community/blob/master/rfcs/20180907-contrib-sunset.md\n",
            "  * https://github.com/tensorflow/addons\n",
            "  * https://github.com/tensorflow/io (for I/O related ops)\n",
            "If you depend on functionality not listed there, please file an issue.\n",
            "\n"
          ],
          "name": "stderr"
        }
      ]
    },
    {
      "cell_type": "code",
      "metadata": {
        "id": "ZYYIk0TuavKI",
        "colab_type": "code",
        "colab": {}
      },
      "source": [
        "tf.reset_default_graph()\n",
        "sess = tf.Session()"
      ],
      "execution_count": 0,
      "outputs": []
    },
    {
      "cell_type": "code",
      "metadata": {
        "id": "ZBIspABmitze",
        "colab_type": "code",
        "colab": {}
      },
      "source": [
        "# Define Inputs\n",
        "with tf.name_scope('input'):\n",
        "  patches = tf.placeholder(tf.float32,[None,dp.P_S,dp.P_S,dp.BAND], name = \"patches\")\n",
        "  labels = tf.placeholder(tf.float32,[None,NUM_CLASSES], name = \"labels\")"
      ],
      "execution_count": 0,
      "outputs": []
    },
    {
      "cell_type": "code",
      "metadata": {
        "id": "k8Is9F4Bjvu2",
        "colab_type": "code",
        "outputId": "6f15f119-0e79-4eeb-9cb2-45461f84386f",
        "colab": {
          "base_uri": "https://localhost:8080/",
          "height": 87
        }
      },
      "source": [
        "#Define the model\n",
        "with tf.name_scope(\"conv1\"):\n",
        "  conv1 = tf.keras.layers.Conv2D( filters = CONV_1_CHANNELS, kernel_size = [ CONV_K_S, CONV_K_S ], strides = STRIDES, padding = 'same', activation = 'relu', use_bias = True, bias_initializer=tf.constant_initializer(0.05), kernel_initializer='glorot_normal')(patches)\n",
        "with tf.name_scope(\"pool1\"):\n",
        "  pool1 = tf.keras.layers.MaxPool2D( pool_size = (2,2), strides = STRIDES, padding = \"same\")(conv1)\n",
        "with tf.name_scope(\"conv2\"):\n",
        "  conv2 = tf.keras.layers.Conv2D( filters = CONV_2_CHANNELS, kernel_size = [ CONV_K_S, CONV_K_S ], strides = STRIDES, padding = 'same', activation = 'relu', use_bias = True, bias_initializer=tf.constant_initializer(0.05), kernel_initializer='glorot_normal')(pool1)\n",
        "with tf.name_scope(\"pool2\"):\n",
        "  pool2 = tf.keras.layers.MaxPool2D( pool_size = (2,2), strides = STRIDES, padding = \"same\")(conv2)\n",
        "with tf.name_scope(\"Flatten\"):\n",
        "  flatten = tf.keras.layers.Flatten()(pool2)\n",
        "with tf.name_scope(\"FC1\"):\n",
        "  fc_1 = tf.keras.layers.Dense(units = FC_1_UNITS, activation= 'relu', use_bias = True, kernel_initializer='glorot_normal', bias_initializer=tf.constant_initializer(0.05))(flatten)\n",
        "with tf.name_scope(\"FC2\"):\n",
        "  fc_2 = tf.keras.layers.Dense(units = FC_2_UNITS, activation= 'relu', use_bias = True, kernel_initializer='glorot_normal', bias_initializer=tf.constant_initializer(0.05))(fc_1)\n",
        "with tf.name_scope(\"FC3\"):\n",
        "  y = tf.keras.layers.Dense(units = FC_3_UNITS, activation= None, use_bias = True, kernel_initializer='glorot_normal', bias_initializer=tf.constant_initializer(0.05))(fc_2)\n",
        "  \n"
      ],
      "execution_count": 0,
      "outputs": [
        {
          "output_type": "stream",
          "text": [
            "W0720 16:38:12.585485 140121112250240 deprecation.py:506] From /usr/local/lib/python3.6/dist-packages/tensorflow/python/ops/init_ops.py:1288: calling VarianceScaling.__init__ (from tensorflow.python.ops.init_ops) with dtype is deprecated and will be removed in a future version.\n",
            "Instructions for updating:\n",
            "Call initializer instance with the dtype argument instead of passing it to the constructor\n"
          ],
          "name": "stderr"
        }
      ]
    },
    {
      "cell_type": "code",
      "metadata": {
        "id": "0GVBpt02oWuM",
        "colab_type": "code",
        "outputId": "2a3566e5-6317-45c9-9905-6e316ad01a25",
        "colab": {
          "base_uri": "https://localhost:8080/",
          "height": 87
        }
      },
      "source": [
        "# Define Loss and optimizer\n",
        "with tf.name_scope(\"loss\"):\n",
        "  loss = tf.reduce_mean(tf.nn.softmax_cross_entropy_with_logits_v2(logits=y, labels=labels))\n",
        "  tf.summary.scalar('loss', loss)\n",
        "with tf.name_scope(\"optimizer\"):\n",
        "  train = tf.train.AdagradOptimizer(LEARNING_RATE).minimize(loss)"
      ],
      "execution_count": 0,
      "outputs": [
        {
          "output_type": "stream",
          "text": [
            "W0720 16:38:12.821815 140121112250240 deprecation.py:506] From /usr/local/lib/python3.6/dist-packages/tensorflow/python/training/adagrad.py:76: calling Constant.__init__ (from tensorflow.python.ops.init_ops) with dtype is deprecated and will be removed in a future version.\n",
            "Instructions for updating:\n",
            "Call initializer instance with the dtype argument instead of passing it to the constructor\n"
          ],
          "name": "stderr"
        }
      ]
    },
    {
      "cell_type": "code",
      "metadata": {
        "id": "WeDN71_4PK1n",
        "colab_type": "code",
        "outputId": "1b1a8305-498a-44b1-f276-18bf5f0d38fd",
        "colab": {
          "base_uri": "https://localhost:8080/",
          "height": 33
        }
      },
      "source": [
        "loss"
      ],
      "execution_count": 0,
      "outputs": [
        {
          "output_type": "execute_result",
          "data": {
            "text/plain": [
              "<tf.Tensor 'loss/Mean:0' shape=() dtype=float32>"
            ]
          },
          "metadata": {
            "tags": []
          },
          "execution_count": 15
        }
      ]
    },
    {
      "cell_type": "code",
      "metadata": {
        "id": "cXBQyvfUooAi",
        "colab_type": "code",
        "colab": {}
      },
      "source": [
        "# Define evaluation\n",
        "with tf.name_scope(\"evaluation\"):\n",
        "    correct_prediction = tf.equal(tf.argmax(y, 1), tf.argmax(labels, 1))\n",
        "    accuracy = tf.reduce_mean(tf.cast(correct_prediction, tf.float32))\n",
        "    tf.summary.scalar('accuracy', accuracy)"
      ],
      "execution_count": 0,
      "outputs": []
    },
    {
      "cell_type": "code",
      "metadata": {
        "id": "IZ1jAKUeoxBd",
        "colab_type": "code",
        "outputId": "d40a613b-c232-41b0-ce82-1f6e270f78cc",
        "colab": {
          "base_uri": "https://localhost:8080/",
          "height": 139
        }
      },
      "source": [
        "# Set up the TensorBoard\n",
        "from tensorboardcolab import *\n",
        "tbc=TensorBoardColab()\n",
        "\n",
        "train_writer = tbc.get_deep_writers(\"train\")\n",
        "train_writer.add_graph(sess.graph)\n",
        "test_writer = tbc.get_deep_writers(\"test\")\n",
        "test_writer.add_graph(sess.graph)\n",
        "\n",
        "summary_op = tf.summary.merge_all()\n"
      ],
      "execution_count": 0,
      "outputs": [
        {
          "output_type": "stream",
          "text": [
            "Using TensorFlow backend.\n"
          ],
          "name": "stderr"
        },
        {
          "output_type": "stream",
          "text": [
            "Wait for 8 seconds...\n"
          ],
          "name": "stdout"
        },
        {
          "output_type": "stream",
          "text": [
            "W0712 10:37:47.747205 139972406392704 deprecation_wrapper.py:119] From /usr/local/lib/python3.6/dist-packages/tensorboardcolab/core.py:49: The name tf.summary.FileWriter is deprecated. Please use tf.compat.v1.summary.FileWriter instead.\n",
            "\n"
          ],
          "name": "stderr"
        },
        {
          "output_type": "stream",
          "text": [
            "TensorBoard link:\n",
            "https://c02aa4f5.ngrok.io\n"
          ],
          "name": "stdout"
        }
      ]
    },
    {
      "cell_type": "code",
      "metadata": {
        "id": "grfe5SHbhlkK",
        "colab_type": "code",
        "colab": {}
      },
      "source": [
        "sess.run(tf.global_variables_initializer())"
      ],
      "execution_count": 0,
      "outputs": []
    },
    {
      "cell_type": "code",
      "metadata": {
        "id": "Bf5L-JsNRba6",
        "colab_type": "code",
        "colab": {}
      },
      "source": [
        "# To extract next batch of size num \n",
        "\n",
        "BATCH_INDEX=0\n",
        "IDX = None\n",
        "\n",
        "def next_batch(num):\n",
        "    #Return a total of `num` random samples and labels.\n",
        "    global BATCH_INDEX\n",
        "    global IDX\n",
        "    if(BATCH_INDEX == 0):\n",
        "      IDX = np.arange(0 , len(y_train))\n",
        "      np.random.shuffle(IDX)\n",
        "      \n",
        "    batch = IDX[BATCH_INDEX:min(BATCH_INDEX+num,len(y_train))]\n",
        "    data_shuffle = [x_train[ i] for i in batch]\n",
        "    labels_shuffle = [y_train[ i] for i in batch]\n",
        "    BATCH_INDEX = int((BATCH_INDEX+len(batch))%len(y_train))\n",
        "    return np.array(data_shuffle),np.array(labels_shuffle)"
      ],
      "execution_count": 0,
      "outputs": []
    },
    {
      "cell_type": "code",
      "metadata": {
        "id": "oqfXLqNae9b5",
        "colab_type": "code",
        "outputId": "eb96b389-377c-46f6-fd05-fcadf197a074",
        "colab": {
          "base_uri": "https://localhost:8080/",
          "height": 1000
        }
      },
      "source": [
        "for step in range(TRAIN_STEPS):\n",
        "    batch_xs, batch_ys = next_batch(BATCH_SIZE) \n",
        "    summary_result, _ = sess.run([summary_op, train], feed_dict={patches: batch_xs, labels:batch_ys})\n",
        "\n",
        "    train_writer.add_summary(summary_result, step)\n",
        "    train_writer.add_run_metadata(tf.RunMetadata(), 'step%03d' % step)\n",
        "    \n",
        "    # calculate accuracy on the test set, every 100 steps.\n",
        "    # we're using the entire test set here, so this will be a bit slow\n",
        "    if step % 1000 == 0:\n",
        "        summary_result, acc = sess.run([summary_op, accuracy], feed_dict={patches: x_test, labels: y_test})\n",
        "        test_writer.add_summary(summary_result, step)\n",
        "        test_writer.add_run_metadata(tf.RunMetadata(), 'step%03d' % step)\n",
        "        print (\"test accuracy: %f at step %d\" % (acc, step))\n",
        "\n",
        "print(\"Accuracy %f\" % sess.run(accuracy, feed_dict={patches: x_test, labels: y_test}))\n",
        "\n",
        "train_writer.close()\n",
        "test_writer.close()"
      ],
      "execution_count": 0,
      "outputs": [
        {
          "output_type": "stream",
          "text": [
            "test accuracy: 0.031344 at step 0\n",
            "test accuracy: 0.654980 at step 1000\n",
            "test accuracy: 0.733689 at step 2000\n",
            "test accuracy: 0.786859 at step 3000\n",
            "test accuracy: 0.813327 at step 4000\n",
            "test accuracy: 0.844671 at step 5000\n",
            "test accuracy: 0.856745 at step 6000\n",
            "test accuracy: 0.889714 at step 7000\n",
            "test accuracy: 0.874855 at step 8000\n",
            "test accuracy: 0.886232 at step 9000\n",
            "test accuracy: 0.914790 at step 10000\n",
            "test accuracy: 0.906199 at step 11000\n",
            "test accuracy: 0.913861 at step 12000\n",
            "test accuracy: 0.925935 at step 13000\n",
            "test accuracy: 0.928256 at step 14000\n",
            "test accuracy: 0.926399 at step 15000\n",
            "test accuracy: 0.942652 at step 16000\n",
            "test accuracy: 0.936615 at step 17000\n",
            "test accuracy: 0.934293 at step 18000\n",
            "test accuracy: 0.941491 at step 19000\n",
            "test accuracy: 0.947063 at step 20000\n",
            "test accuracy: 0.951474 at step 21000\n",
            "test accuracy: 0.931507 at step 22000\n",
            "test accuracy: 0.956814 at step 23000\n",
            "test accuracy: 0.943348 at step 24000\n",
            "test accuracy: 0.957511 at step 25000\n",
            "test accuracy: 0.950313 at step 26000\n",
            "test accuracy: 0.959136 at step 27000\n",
            "test accuracy: 0.960297 at step 28000\n",
            "test accuracy: 0.963316 at step 29000\n",
            "test accuracy: 0.964012 at step 30000\n",
            "test accuracy: 0.957279 at step 31000\n",
            "test accuracy: 0.961226 at step 32000\n",
            "test accuracy: 0.967727 at step 33000\n",
            "test accuracy: 0.966334 at step 34000\n",
            "test accuracy: 0.967959 at step 35000\n",
            "test accuracy: 0.967959 at step 36000\n",
            "test accuracy: 0.970281 at step 37000\n",
            "test accuracy: 0.969352 at step 38000\n",
            "test accuracy: 0.970049 at step 39000\n",
            "test accuracy: 0.965869 at step 40000\n",
            "test accuracy: 0.955421 at step 41000\n",
            "test accuracy: 0.970977 at step 42000\n",
            "test accuracy: 0.973067 at step 43000\n",
            "test accuracy: 0.972138 at step 44000\n",
            "test accuracy: 0.968423 at step 45000\n",
            "test accuracy: 0.972835 at step 46000\n",
            "test accuracy: 0.973531 at step 47000\n",
            "test accuracy: 0.973764 at step 48000\n",
            "test accuracy: 0.976318 at step 49000\n",
            "test accuracy: 0.975853 at step 50000\n",
            "test accuracy: 0.974925 at step 51000\n",
            "test accuracy: 0.976550 at step 52000\n",
            "test accuracy: 0.973996 at step 53000\n",
            "test accuracy: 0.976550 at step 54000\n",
            "test accuracy: 0.976550 at step 55000\n",
            "test accuracy: 0.974925 at step 56000\n",
            "test accuracy: 0.977479 at step 57000\n",
            "test accuracy: 0.975389 at step 58000\n",
            "test accuracy: 0.975389 at step 59000\n",
            "test accuracy: 0.977246 at step 60000\n",
            "test accuracy: 0.977711 at step 61000\n",
            "test accuracy: 0.978872 at step 62000\n",
            "test accuracy: 0.980033 at step 63000\n",
            "test accuracy: 0.976550 at step 64000\n",
            "test accuracy: 0.979568 at step 65000\n",
            "test accuracy: 0.974692 at step 66000\n",
            "test accuracy: 0.978407 at step 67000\n",
            "test accuracy: 0.975157 at step 68000\n",
            "test accuracy: 0.980265 at step 69000\n",
            "test accuracy: 0.979336 at step 70000\n",
            "test accuracy: 0.977943 at step 71000\n",
            "test accuracy: 0.976318 at step 72000\n",
            "test accuracy: 0.978639 at step 73000\n",
            "test accuracy: 0.971210 at step 74000\n",
            "test accuracy: 0.981193 at step 75000\n",
            "test accuracy: 0.979568 at step 76000\n",
            "test accuracy: 0.979800 at step 77000\n",
            "test accuracy: 0.982587 at step 78000\n",
            "test accuracy: 0.982354 at step 79000\n",
            "test accuracy: 0.982122 at step 80000\n",
            "test accuracy: 0.983283 at step 81000\n",
            "test accuracy: 0.980497 at step 82000\n",
            "test accuracy: 0.981658 at step 83000\n",
            "test accuracy: 0.982819 at step 84000\n",
            "test accuracy: 0.978175 at step 85000\n",
            "test accuracy: 0.983515 at step 86000\n",
            "test accuracy: 0.981426 at step 87000\n",
            "test accuracy: 0.982354 at step 88000\n",
            "test accuracy: 0.983747 at step 89000\n",
            "test accuracy: 0.984444 at step 90000\n",
            "test accuracy: 0.982587 at step 91000\n",
            "test accuracy: 0.981426 at step 92000\n",
            "test accuracy: 0.983515 at step 93000\n",
            "test accuracy: 0.981426 at step 94000\n",
            "test accuracy: 0.983515 at step 95000\n",
            "test accuracy: 0.983980 at step 96000\n",
            "test accuracy: 0.983980 at step 97000\n",
            "test accuracy: 0.984676 at step 98000\n",
            "test accuracy: 0.981890 at step 99000\n",
            "test accuracy: 0.984444 at step 100000\n",
            "test accuracy: 0.983747 at step 101000\n",
            "test accuracy: 0.984908 at step 102000\n",
            "test accuracy: 0.980961 at step 103000\n",
            "test accuracy: 0.981426 at step 104000\n",
            "test accuracy: 0.983283 at step 105000\n",
            "test accuracy: 0.985140 at step 106000\n",
            "test accuracy: 0.984908 at step 107000\n",
            "test accuracy: 0.984676 at step 108000\n",
            "test accuracy: 0.985605 at step 109000\n",
            "test accuracy: 0.985140 at step 110000\n",
            "test accuracy: 0.985140 at step 111000\n",
            "test accuracy: 0.985605 at step 112000\n",
            "test accuracy: 0.984908 at step 113000\n",
            "test accuracy: 0.984908 at step 114000\n",
            "test accuracy: 0.983980 at step 115000\n",
            "test accuracy: 0.984908 at step 116000\n",
            "test accuracy: 0.986534 at step 117000\n",
            "test accuracy: 0.986998 at step 118000\n",
            "test accuracy: 0.985605 at step 119000\n",
            "test accuracy: 0.984676 at step 120000\n",
            "test accuracy: 0.984676 at step 121000\n",
            "test accuracy: 0.983283 at step 122000\n",
            "test accuracy: 0.984908 at step 123000\n",
            "test accuracy: 0.985837 at step 124000\n",
            "test accuracy: 0.986998 at step 125000\n",
            "test accuracy: 0.985140 at step 126000\n",
            "test accuracy: 0.985837 at step 127000\n",
            "test accuracy: 0.986534 at step 128000\n",
            "test accuracy: 0.985373 at step 129000\n",
            "test accuracy: 0.983283 at step 130000\n",
            "test accuracy: 0.983515 at step 131000\n",
            "test accuracy: 0.984444 at step 132000\n",
            "test accuracy: 0.985605 at step 133000\n",
            "test accuracy: 0.985605 at step 134000\n",
            "test accuracy: 0.985837 at step 135000\n",
            "test accuracy: 0.986069 at step 136000\n",
            "test accuracy: 0.986766 at step 137000\n",
            "test accuracy: 0.986301 at step 138000\n",
            "test accuracy: 0.985140 at step 139000\n",
            "Accuracy 0.986534\n"
          ],
          "name": "stdout"
        }
      ]
    },
    {
      "cell_type": "code",
      "metadata": {
        "id": "SCvVtEMAnRSY",
        "colab_type": "code",
        "colab": {}
      },
      "source": [
        "y_hat = np.zeros((dp.HEIGHT,dp.WIDTH),dtype=int)\n",
        "\n",
        "for i in range(dp.HEIGHT):\n",
        "  for j in range(dp.WIDTH):\n",
        "    patch = dp.patch_at_index(i,j)\n",
        "    patch = patch.reshape(dp.P_S,dp.P_S,dp.BAND) \n",
        "    patch = np.array([patch])\n",
        "    temp = sess.run(y,feed_dict={patches:patch})\n",
        "    temp = softmax(temp)\n",
        "    y_hat[i][j] = np.argmax(temp)+1"
      ],
      "execution_count": 0,
      "outputs": []
    },
    {
      "cell_type": "code",
      "metadata": {
        "id": "cq0H9Afc4_A8",
        "colab_type": "code",
        "outputId": "0ba855c3-f156-4c24-959c-77197d126366",
        "colab": {
          "base_uri": "https://localhost:8080/",
          "height": 51
        }
      },
      "source": [
        "pip install  spectral"
      ],
      "execution_count": 0,
      "outputs": [
        {
          "output_type": "stream",
          "text": [
            "Requirement already satisfied: spectral in /usr/local/lib/python3.6/dist-packages (0.19)\n",
            "Requirement already satisfied: numpy in /usr/local/lib/python3.6/dist-packages (from spectral) (1.16.4)\n"
          ],
          "name": "stdout"
        }
      ]
    },
    {
      "cell_type": "code",
      "metadata": {
        "id": "ZglhHwu4340s",
        "colab_type": "code",
        "outputId": "507f1e5c-cb31-45d8-cf11-3a341bdf1beb",
        "colab": {
          "base_uri": "https://localhost:8080/",
          "height": 1207
        }
      },
      "source": [
        "import spectral\n",
        "spectral.imshow(classes = dp.mat_y,figsize=(10,10))\n",
        "spectral.imshow(classes = y_hat,figsize=(10,10))"
      ],
      "execution_count": 0,
      "outputs": [
        {
          "output_type": "execute_result",
          "data": {
            "text/plain": [
              "ImageView object:\n",
              "  Interpolation       :  <default>"
            ]
          },
          "metadata": {
            "tags": []
          },
          "execution_count": 48
        },
        {
          "output_type": "display_data",
          "data": {
            "image/png": "[encoded data removed]",
            "text/plain": [
              "<Figure size 720x720 with 1 Axes>"
            ]
          },
          "metadata": {
            "tags": []
          }
        },
        {
          "output_type": "display_data",
          "data": {
            "image/png": "[encoded data removed]",
            "text/plain": [
              "<Figure size 720x720 with 1 Axes>"
            ]
          },
          "metadata": {
            "tags": []
          }
        }
      ]
    },
    {
      "cell_type": "code",
      "metadata": {
        "id": "rIIKc5a947nV",
        "colab_type": "code",
        "colab": {}
      },
      "source": [
        ""
      ],
      "execution_count": 0,
      "outputs": []
    }
  ]
}